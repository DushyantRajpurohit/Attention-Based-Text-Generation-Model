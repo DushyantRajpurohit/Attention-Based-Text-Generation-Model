{
  "cells": [
    {
      "cell_type": "code",
      "execution_count": 22,
      "metadata": {
        "id": "Kr4_yo56vIvH"
      },
      "outputs": [],
      "source": [
        "import torch\n",
        "import torch.nn as nn\n",
        "import torch.optim as optim\n",
        "\n",
        "import random"
      ]
    },
    {
      "cell_type": "code",
      "execution_count": 23,
      "metadata": {
        "colab": {
          "base_uri": "https://localhost:8080/"
        },
        "id": "iT45zITgwGCC",
        "outputId": "2d29ff83-d750-4b2a-8228-9694ee1c312c"
      },
      "outputs": [
        {
          "output_type": "stream",
          "name": "stdout",
          "text": [
            "cpu\n"
          ]
        }
      ],
      "source": [
        "device = torch.device('cuda' if torch.cuda.is_available() else 'cpu')\n",
        "print(device)"
      ]
    },
    {
      "cell_type": "code",
      "execution_count": 24,
      "metadata": {
        "id": "jxffMqujwfrp"
      },
      "outputs": [],
      "source": [
        "with open('shakespeare.txt', 'r') as f:\n",
        "  text = f.read().lower()[:500000]"
      ]
    },
    {
      "cell_type": "code",
      "execution_count": 25,
      "metadata": {
        "id": "wcF2nse98qzM"
      },
      "outputs": [],
      "source": [
        "words = text.split()\n",
        "vocab = sorted(set(words))"
      ]
    },
    {
      "cell_type": "code",
      "execution_count": 26,
      "metadata": {
        "id": "QwRd1nV88wKs"
      },
      "outputs": [],
      "source": [
        "word2idx = {w: i for i, w in enumerate(vocab)}\n",
        "idx2word = {i: w for w, i in word2idx.items()}"
      ]
    },
    {
      "cell_type": "code",
      "execution_count": 27,
      "metadata": {
        "id": "HnismlMM82Ki"
      },
      "outputs": [],
      "source": [
        "vocab_size = len(vocab)"
      ]
    },
    {
      "cell_type": "code",
      "execution_count": 28,
      "metadata": {
        "id": "Q-XJd6ie895n"
      },
      "outputs": [],
      "source": [
        "seq_length = 5"
      ]
    },
    {
      "cell_type": "code",
      "execution_count": 29,
      "metadata": {
        "id": "vyMsN2oi8_7p"
      },
      "outputs": [],
      "source": [
        "data = [(words[i:i+seq_length], words[i+seq_length]) for i in range(0, len(words) - seq_length)]"
      ]
    },
    {
      "cell_type": "code",
      "execution_count": 30,
      "metadata": {
        "id": "9n9VQF7K9SJD"
      },
      "outputs": [],
      "source": [
        "X = torch.tensor([[word2idx[w] for w in seq] for seq, _ in data]).to(device)\n",
        "y = torch.tensor([word2idx[w] for _, w in data]).to(device)"
      ]
    },
    {
      "cell_type": "code",
      "execution_count": 31,
      "metadata": {
        "id": "KvHMAG2Q9j66"
      },
      "outputs": [],
      "source": [
        "class CharRNNAttention(nn.Module):\n",
        "  def __init__(self, vocab_size, embedding_dim, hidden_dim):\n",
        "    super().__init__()\n",
        "    self.embed = nn.Embedding(vocab_size, embedding_dim)\n",
        "    self.rnn = nn.RNN(embedding_dim, hidden_dim, batch_first=True)\n",
        "    self.attention = nn.Linear(hidden_dim, 1)\n",
        "    self.fc = nn.Linear(hidden_dim, vocab_size)\n",
        "\n",
        "  def forward(self, x):\n",
        "    x = self.embed(x)\n",
        "    out, _ = self.rnn(x)\n",
        "    attention_weights = nn.functional.softmax(self.attention(out).squeeze(2), dim=1)\n",
        "    context = torch.sum(attention_weights.unsqueeze(2) * out, dim=1)\n",
        "    out = self.fc(context)\n",
        "\n",
        "    return out"
      ]
    },
    {
      "cell_type": "code",
      "execution_count": 32,
      "metadata": {
        "id": "EvWfG_2q-lel"
      },
      "outputs": [],
      "source": [
        "model = CharRNNAttention(vocab_size, 128, 256).to(device)"
      ]
    },
    {
      "cell_type": "code",
      "execution_count": 33,
      "metadata": {
        "id": "oQFXb0-l-tiq"
      },
      "outputs": [],
      "source": [
        "optimizer = optim.Adam(model.parameters(), lr=0.003)\n",
        "criterion = nn.CrossEntropyLoss()"
      ]
    },
    {
      "cell_type": "code",
      "execution_count": 34,
      "metadata": {
        "colab": {
          "base_uri": "https://localhost:8080/"
        },
        "id": "cnTHiHdT-0Ag",
        "outputId": "4bb324b3-44be-4995-9dc0-a08735fd46db"
      },
      "outputs": [
        {
          "output_type": "stream",
          "name": "stdout",
          "text": [
            "Epoch 1/50, Loss: 1999.9735\n",
            "Epoch 2/50, Loss: 1740.4236\n",
            "Epoch 3/50, Loss: 1538.0886\n",
            "Epoch 4/50, Loss: 1343.6157\n",
            "Epoch 5/50, Loss: 1209.0893\n",
            "Epoch 6/50, Loss: 1083.5018\n",
            "Epoch 7/50, Loss: 954.2811\n",
            "Epoch 8/50, Loss: 826.2561\n",
            "Epoch 9/50, Loss: 718.2332\n",
            "Epoch 10/50, Loss: 625.6101\n",
            "Epoch 11/50, Loss: 539.2823\n",
            "Epoch 12/50, Loss: 464.2919\n",
            "Epoch 13/50, Loss: 401.1814\n",
            "Epoch 14/50, Loss: 353.0522\n",
            "Epoch 15/50, Loss: 306.7517\n",
            "Epoch 16/50, Loss: 269.8393\n",
            "Epoch 17/50, Loss: 239.5276\n",
            "Epoch 18/50, Loss: 215.1926\n",
            "Epoch 19/50, Loss: 188.6489\n",
            "Epoch 20/50, Loss: 167.8291\n",
            "Epoch 21/50, Loss: 154.0112\n",
            "Epoch 22/50, Loss: 137.5959\n",
            "Epoch 23/50, Loss: 119.7708\n",
            "Epoch 24/50, Loss: 107.9789\n",
            "Epoch 25/50, Loss: 98.1043\n",
            "Epoch 26/50, Loss: 98.1628\n",
            "Epoch 27/50, Loss: 87.8847\n",
            "Epoch 28/50, Loss: 86.1968\n",
            "Epoch 29/50, Loss: 82.9837\n",
            "Epoch 30/50, Loss: 82.7148\n",
            "Epoch 31/50, Loss: 74.6544\n",
            "Epoch 32/50, Loss: 65.2510\n",
            "Epoch 33/50, Loss: 62.4168\n",
            "Epoch 34/50, Loss: 66.1428\n",
            "Epoch 35/50, Loss: 69.9454\n",
            "Epoch 36/50, Loss: 69.7226\n",
            "Epoch 37/50, Loss: 66.7682\n",
            "Epoch 38/50, Loss: 68.1108\n",
            "Epoch 39/50, Loss: 56.4472\n",
            "Epoch 40/50, Loss: 50.1944\n",
            "Epoch 41/50, Loss: 47.8126\n",
            "Epoch 42/50, Loss: 55.4656\n",
            "Epoch 43/50, Loss: 61.5695\n",
            "Epoch 44/50, Loss: 64.3118\n",
            "Epoch 45/50, Loss: 70.5961\n",
            "Epoch 46/50, Loss: 65.4218\n",
            "Epoch 47/50, Loss: 55.1621\n",
            "Epoch 48/50, Loss: 45.4733\n",
            "Epoch 49/50, Loss: 38.1444\n",
            "Epoch 50/50, Loss: 36.7496\n"
          ]
        }
      ],
      "source": [
        "for epoch in range(50):\n",
        "  model.train()\n",
        "  running_loss = 0.0\n",
        "\n",
        "  for i in range(0, len(X), 64):\n",
        "    x_batch = X[i:i+64].to(device)\n",
        "    y_batch = y[i:i+64].to(device)\n",
        "\n",
        "    if len(x_batch) == 0:\n",
        "      continue\n",
        "\n",
        "    optimizer.zero_grad()\n",
        "    outputs = model(x_batch)\n",
        "    loss = criterion(outputs, y_batch)\n",
        "    loss.backward()\n",
        "    optimizer.step()\n",
        "\n",
        "    running_loss += loss.item()\n",
        "\n",
        "  print(f'Epoch {epoch+1}/50, Loss: {running_loss:.4f}')"
      ]
    },
    {
      "cell_type": "code",
      "source": [
        "def generate_text(model, start_words, num_words=20):\n",
        "    model.eval()\n",
        "    generated = start_words[:]\n",
        "\n",
        "    for _ in range(num_words):\n",
        "        current_seq = generated[-seq_length:] if len(generated) >= seq_length else generated\n",
        "\n",
        "        if len(current_seq) < seq_length:\n",
        "            current_seq = [\"\"] * (seq_length - len(current_seq)) + current_seq\n",
        "\n",
        "        idx_seq = [word2idx[w] if w in word2idx else 0 for w in current_seq]\n",
        "        input_seq = torch.tensor([idx_seq], dtype=torch.long).to(device)\n",
        "\n",
        "        with torch.no_grad():\n",
        "            logits = model(input_seq)\n",
        "            probs = torch.softmax(logits, dim=-1).squeeze(0)\n",
        "            next_idx = torch.multinomial(probs, 1).item()\n",
        "\n",
        "        next_word = idx2word[next_idx]\n",
        "        generated.append(next_word)\n",
        "\n",
        "    return ' '.join(generated)"
      ],
      "metadata": {
        "id": "7xuuNlUp6L03"
      },
      "execution_count": 35,
      "outputs": []
    },
    {
      "cell_type": "code",
      "execution_count": 36,
      "metadata": {
        "colab": {
          "base_uri": "https://localhost:8080/"
        },
        "id": "rt4n0-vUAaMo",
        "outputId": "40879184-539d-4436-905b-e020de04d7f7"
      },
      "outputs": [
        {
          "output_type": "stream",
          "name": "stdout",
          "text": [
            "he was going with bitterness the in bitterness own think, that your too to correct lie, bitter when thy dear title to make to worst to only the what the ten spring, which of\n",
            "why is it bitterness sin keeps though gave think, or or the of correct if i none heat dear the will self and of arise, for think that i and my heard of\n",
            "we must all plea present present such i him show then beauty herself all i is all they show purpose will, thee every thee glass so though fair you hast in as my\n"
          ]
        }
      ],
      "source": [
        "print(generate_text(model, ['he', 'was', 'going', 'with'], num_words=30))\n",
        "print(generate_text(model, ['why', 'is', 'it'], num_words=30))\n",
        "print(generate_text(model, ['we', 'must', 'all'], num_words=30))"
      ]
    },
    {
      "cell_type": "code",
      "execution_count": 37,
      "metadata": {
        "id": "B5mHR9OWAg77"
      },
      "outputs": [],
      "source": [
        "torch.save(model.state_dict(), 'attention_model.pth')"
      ]
    }
  ],
  "metadata": {
    "colab": {
      "provenance": []
    },
    "kernelspec": {
      "display_name": "Python 3",
      "name": "python3"
    },
    "language_info": {
      "name": "python"
    }
  },
  "nbformat": 4,
  "nbformat_minor": 0
}